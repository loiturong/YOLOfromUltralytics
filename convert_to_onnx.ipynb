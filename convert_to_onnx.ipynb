{
 "cells": [
  {
   "cell_type": "code",
   "id": "initial_id",
   "metadata": {
    "collapsed": true
   },
   "source": [
    "import torch\n",
    "import os\n",
    "\n",
    "# Check if ultralytics is installed, install if not\n",
    "try:\n",
    "    from ultralytics import YOLO\n",
    "except ImportError:\n",
    "    print(\"Installing ultralytics...\")\n",
    "    !pip install ultralytics\n",
    "    from ultralytics import YOLO"
   ],
   "outputs": [],
   "execution_count": null
  },
  {
   "metadata": {},
   "cell_type": "code",
   "source": [
    "import onnx\n",
    "print(f\"ONNX version: {onnx.__version__}\")"
   ],
   "id": "311c9e4c05321cc",
   "outputs": [],
   "execution_count": null
  },
  {
   "metadata": {},
   "cell_type": "code",
   "source": [
    "# Path to your fine-tuned PyTorch model\n",
    "model_path = \"yolo11n.pt\"  # Update this if your model is in a different location\n",
    "\n",
    "# Check if model exists\n",
    "if not os.path.exists(model_path):\n",
    "    raise FileNotFoundError(f\"Model file {model_path} not found\")\n",
    "\n",
    "# Load the model\n",
    "model = YOLO(model_path)\n",
    "\n",
    "# Export to ONNX format\n",
    "# The simplify=True parameter will attempt to simplify the model where possible\n",
    "# opset is the ONNX operator set version (default is usually fine)\n",
    "# Other options like dynamic, imgsz, etc. can be adjusted as needed\n",
    "onnx_path = model_path.replace('.pt', '.onnx')\n",
    "success = model.export(format=\"onnx\", simplify=True, opset=12)\n",
    "\n",
    "if success:\n",
    "    print(f\"Model successfully converted to ONNX format and saved as: {onnx_path}\")\n",
    "else:\n",
    "    print(f\"Model failed converted to ONNX format\")"
   ],
   "id": "bf888e8510539823",
   "outputs": [],
   "execution_count": null
  },
  {
   "metadata": {},
   "cell_type": "code",
   "source": [
    "# Try importing onnx for verification\n",
    "try:\n",
    "    import onnx\n",
    "\n",
    "    # Load the ONNX model\n",
    "    onnx_model = onnx.load(onnx_path)\n",
    "\n",
    "    # Check if the model is well-formed\n",
    "    onnx.checker.check_model(onnx_model)\n",
    "\n",
    "    # Print a success message\n",
    "    print(\"ONNX model is valid!\")\n",
    "\n",
    "    # Print some basic information about the model\n",
    "    print(f\"Model IR version: {onnx_model.ir_version}\")\n",
    "    print(f\"Producer name: {onnx_model.producer_name}\")\n",
    "    print(f\"Producer version: {onnx_model.producer_version}\")\n",
    "    print(f\"Model version: {onnx_model.model_version}\")\n",
    "\n",
    "    # Print input and output information\n",
    "    for i, input_tensor in enumerate(onnx_model.graph.input):\n",
    "        print(f\"Input {i}: {input_tensor.name}\")\n",
    "\n",
    "    for i, output_tensor in enumerate(onnx_model.graph.output):\n",
    "        print(f\"Output {i}: {output_tensor.name}\")\n",
    "\n",
    "except ImportError:\n",
    "    print(\"ONNX package not installed. To verify the model install it with: pip install onnx\")\n",
    "except Exception as e:\n",
    "    print(f\"Error verifying ONNX model: {e}\")"
   ],
   "id": "cc89e19f901b1649",
   "outputs": [],
   "execution_count": null
  },
  {
   "metadata": {},
   "cell_type": "code",
   "source": [
    "try:\n",
    "    import onnxruntime as ort\n",
    "    import numpy as np\n",
    "    import cv2\n",
    "    from PIL import Image\n",
    "\n",
    "    # Create an ONNX Runtime session\n",
    "    session = ort.InferenceSession(onnx_path)\n",
    "\n",
    "    # Load and preprocess an image (adjust as needed for your model)\n",
    "    # This is a simplified example and may need adjustments based on your model's specific requirements\n",
    "    test_image_path = \"my_fruits/images/4de76412-image_49.jpg\"  # Replace with a test image path\n",
    "\n",
    "    if os.path.exists(test_image_path):\n",
    "        # Load and preprocess image - this may vary based on your model requirements\n",
    "        img = cv2.imread(test_image_path)\n",
    "        img = cv2.cvtColor(img, cv2.COLOR_BGR2RGB)\n",
    "        img = cv2.resize(img, (640, 640))  # Common YOLO input size\n",
    "        img = img.transpose(2, 0, 1)  # HWC to CHW\n",
    "        img = np.ascontiguousarray(img) / 255.0  # Normalize to 0-1\n",
    "        img = np.expand_dims(img, 0).astype(np.float32)  # Add batch dimension\n",
    "\n",
    "        # Get model inputs\n",
    "        input_name = session.get_inputs()[0].name\n",
    "\n",
    "        # Run inference\n",
    "        outputs = session.run(None, {input_name: img})\n",
    "\n",
    "        print(\"ONNX model inference successful!\")\n",
    "        print(f\"Output shape: {outputs[0].shape}\")\n",
    "    else:\n",
    "        print(f\"Test image {test_image_path} not found. Skipping inference test.\")\n",
    "\n",
    "except ImportError:\n",
    "    print(\"onnxruntime package not installed. To test inference install it with: pip install onnxruntime\")\n",
    "except Exception as e:\n",
    "    print(f\"Error running inference with ONNX model: {e}\")"
   ],
   "id": "111b20e9d0e08fb2",
   "outputs": [],
   "execution_count": null
  }
 ],
 "metadata": {
  "kernelspec": {
   "display_name": "Python 3",
   "language": "python",
   "name": "python3"
  },
  "language_info": {
   "codemirror_mode": {
    "name": "ipython",
    "version": 2
   },
   "file_extension": ".py",
   "mimetype": "text/x-python",
   "name": "python",
   "nbconvert_exporter": "python",
   "pygments_lexer": "ipython2",
   "version": "2.7.6"
  }
 },
 "nbformat": 4,
 "nbformat_minor": 5
}
